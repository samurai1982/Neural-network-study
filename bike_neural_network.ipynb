{
 "cells": [
  {
   "cell_type": "code",
   "execution_count": 1,
   "metadata": {
    "collapsed": true
   },
   "outputs": [],
   "source": [
    "#データを扱うライブラリのインポート\n",
    "import pandas as pd\n",
    "#numpyをインポート\n",
    "import numpy as np"
   ]
  },
  {
   "cell_type": "code",
   "execution_count": 2,
   "metadata": {
    "collapsed": true
   },
   "outputs": [],
   "source": [
    "#同じフォルダ内にデータを入れて読み込み,1行目まで読み込み\n",
    "df = pd.read_csv ('day_learn.csv',nrows=10)"
   ]
  },
  {
   "cell_type": "code",
   "execution_count": 3,
   "metadata": {},
   "outputs": [
    {
     "data": {
      "text/html": [
       "<div>\n",
       "<style>\n",
       "    .dataframe thead tr:only-child th {\n",
       "        text-align: right;\n",
       "    }\n",
       "\n",
       "    .dataframe thead th {\n",
       "        text-align: left;\n",
       "    }\n",
       "\n",
       "    .dataframe tbody tr th {\n",
       "        vertical-align: top;\n",
       "    }\n",
       "</style>\n",
       "<table border=\"1\" class=\"dataframe\">\n",
       "  <thead>\n",
       "    <tr style=\"text-align: right;\">\n",
       "      <th></th>\n",
       "      <th>instant</th>\n",
       "      <th>dteday</th>\n",
       "      <th>season</th>\n",
       "      <th>yr</th>\n",
       "      <th>mnth</th>\n",
       "      <th>holiday</th>\n",
       "      <th>weekday</th>\n",
       "      <th>workingday</th>\n",
       "      <th>weathersit</th>\n",
       "      <th>temp</th>\n",
       "      <th>atemp</th>\n",
       "      <th>hum</th>\n",
       "      <th>windspeed</th>\n",
       "      <th>casual</th>\n",
       "      <th>registered</th>\n",
       "      <th>cnt</th>\n",
       "    </tr>\n",
       "  </thead>\n",
       "  <tbody>\n",
       "    <tr>\n",
       "      <th>0</th>\n",
       "      <td>1</td>\n",
       "      <td>2011/1/1</td>\n",
       "      <td>1</td>\n",
       "      <td>0</td>\n",
       "      <td>1</td>\n",
       "      <td>0</td>\n",
       "      <td>6</td>\n",
       "      <td>0</td>\n",
       "      <td>2</td>\n",
       "      <td>0.344167</td>\n",
       "      <td>0.363625</td>\n",
       "      <td>0.805833</td>\n",
       "      <td>0.160446</td>\n",
       "      <td>331</td>\n",
       "      <td>654</td>\n",
       "      <td>985</td>\n",
       "    </tr>\n",
       "    <tr>\n",
       "      <th>1</th>\n",
       "      <td>2</td>\n",
       "      <td>2011/1/2</td>\n",
       "      <td>1</td>\n",
       "      <td>0</td>\n",
       "      <td>1</td>\n",
       "      <td>0</td>\n",
       "      <td>0</td>\n",
       "      <td>0</td>\n",
       "      <td>2</td>\n",
       "      <td>0.363478</td>\n",
       "      <td>0.353739</td>\n",
       "      <td>0.696087</td>\n",
       "      <td>0.248539</td>\n",
       "      <td>131</td>\n",
       "      <td>670</td>\n",
       "      <td>801</td>\n",
       "    </tr>\n",
       "    <tr>\n",
       "      <th>2</th>\n",
       "      <td>3</td>\n",
       "      <td>2011/1/3</td>\n",
       "      <td>1</td>\n",
       "      <td>0</td>\n",
       "      <td>1</td>\n",
       "      <td>0</td>\n",
       "      <td>1</td>\n",
       "      <td>1</td>\n",
       "      <td>1</td>\n",
       "      <td>0.196364</td>\n",
       "      <td>0.189405</td>\n",
       "      <td>0.437273</td>\n",
       "      <td>0.248309</td>\n",
       "      <td>120</td>\n",
       "      <td>1229</td>\n",
       "      <td>1349</td>\n",
       "    </tr>\n",
       "    <tr>\n",
       "      <th>3</th>\n",
       "      <td>4</td>\n",
       "      <td>2011/1/4</td>\n",
       "      <td>1</td>\n",
       "      <td>0</td>\n",
       "      <td>1</td>\n",
       "      <td>0</td>\n",
       "      <td>2</td>\n",
       "      <td>1</td>\n",
       "      <td>1</td>\n",
       "      <td>0.200000</td>\n",
       "      <td>0.212122</td>\n",
       "      <td>0.590435</td>\n",
       "      <td>0.160296</td>\n",
       "      <td>108</td>\n",
       "      <td>1454</td>\n",
       "      <td>1562</td>\n",
       "    </tr>\n",
       "    <tr>\n",
       "      <th>4</th>\n",
       "      <td>5</td>\n",
       "      <td>2011/1/5</td>\n",
       "      <td>1</td>\n",
       "      <td>0</td>\n",
       "      <td>1</td>\n",
       "      <td>0</td>\n",
       "      <td>3</td>\n",
       "      <td>1</td>\n",
       "      <td>1</td>\n",
       "      <td>0.226957</td>\n",
       "      <td>0.229270</td>\n",
       "      <td>0.436957</td>\n",
       "      <td>0.186900</td>\n",
       "      <td>82</td>\n",
       "      <td>1518</td>\n",
       "      <td>1600</td>\n",
       "    </tr>\n",
       "    <tr>\n",
       "      <th>5</th>\n",
       "      <td>6</td>\n",
       "      <td>2011/1/6</td>\n",
       "      <td>1</td>\n",
       "      <td>0</td>\n",
       "      <td>1</td>\n",
       "      <td>0</td>\n",
       "      <td>4</td>\n",
       "      <td>1</td>\n",
       "      <td>1</td>\n",
       "      <td>0.204348</td>\n",
       "      <td>0.233209</td>\n",
       "      <td>0.518261</td>\n",
       "      <td>0.089565</td>\n",
       "      <td>88</td>\n",
       "      <td>1518</td>\n",
       "      <td>1606</td>\n",
       "    </tr>\n",
       "    <tr>\n",
       "      <th>6</th>\n",
       "      <td>7</td>\n",
       "      <td>2011/1/7</td>\n",
       "      <td>1</td>\n",
       "      <td>0</td>\n",
       "      <td>1</td>\n",
       "      <td>0</td>\n",
       "      <td>5</td>\n",
       "      <td>1</td>\n",
       "      <td>2</td>\n",
       "      <td>0.196522</td>\n",
       "      <td>0.208839</td>\n",
       "      <td>0.498696</td>\n",
       "      <td>0.168726</td>\n",
       "      <td>148</td>\n",
       "      <td>1362</td>\n",
       "      <td>1510</td>\n",
       "    </tr>\n",
       "    <tr>\n",
       "      <th>7</th>\n",
       "      <td>8</td>\n",
       "      <td>2011/1/8</td>\n",
       "      <td>1</td>\n",
       "      <td>0</td>\n",
       "      <td>1</td>\n",
       "      <td>0</td>\n",
       "      <td>6</td>\n",
       "      <td>0</td>\n",
       "      <td>2</td>\n",
       "      <td>0.165000</td>\n",
       "      <td>0.162254</td>\n",
       "      <td>0.535833</td>\n",
       "      <td>0.266804</td>\n",
       "      <td>68</td>\n",
       "      <td>891</td>\n",
       "      <td>959</td>\n",
       "    </tr>\n",
       "    <tr>\n",
       "      <th>8</th>\n",
       "      <td>9</td>\n",
       "      <td>2011/1/9</td>\n",
       "      <td>1</td>\n",
       "      <td>0</td>\n",
       "      <td>1</td>\n",
       "      <td>0</td>\n",
       "      <td>0</td>\n",
       "      <td>0</td>\n",
       "      <td>1</td>\n",
       "      <td>0.138333</td>\n",
       "      <td>0.116175</td>\n",
       "      <td>0.434167</td>\n",
       "      <td>0.361950</td>\n",
       "      <td>54</td>\n",
       "      <td>768</td>\n",
       "      <td>822</td>\n",
       "    </tr>\n",
       "    <tr>\n",
       "      <th>9</th>\n",
       "      <td>10</td>\n",
       "      <td>2011/1/10</td>\n",
       "      <td>1</td>\n",
       "      <td>0</td>\n",
       "      <td>1</td>\n",
       "      <td>0</td>\n",
       "      <td>1</td>\n",
       "      <td>1</td>\n",
       "      <td>1</td>\n",
       "      <td>0.150833</td>\n",
       "      <td>0.150888</td>\n",
       "      <td>0.482917</td>\n",
       "      <td>0.223267</td>\n",
       "      <td>41</td>\n",
       "      <td>1280</td>\n",
       "      <td>1321</td>\n",
       "    </tr>\n",
       "  </tbody>\n",
       "</table>\n",
       "</div>"
      ],
      "text/plain": [
       "   instant     dteday  season  yr  mnth  holiday  weekday  workingday  \\\n",
       "0        1   2011/1/1       1   0     1        0        6           0   \n",
       "1        2   2011/1/2       1   0     1        0        0           0   \n",
       "2        3   2011/1/3       1   0     1        0        1           1   \n",
       "3        4   2011/1/4       1   0     1        0        2           1   \n",
       "4        5   2011/1/5       1   0     1        0        3           1   \n",
       "5        6   2011/1/6       1   0     1        0        4           1   \n",
       "6        7   2011/1/7       1   0     1        0        5           1   \n",
       "7        8   2011/1/8       1   0     1        0        6           0   \n",
       "8        9   2011/1/9       1   0     1        0        0           0   \n",
       "9       10  2011/1/10       1   0     1        0        1           1   \n",
       "\n",
       "   weathersit      temp     atemp       hum  windspeed  casual  registered  \\\n",
       "0           2  0.344167  0.363625  0.805833   0.160446     331         654   \n",
       "1           2  0.363478  0.353739  0.696087   0.248539     131         670   \n",
       "2           1  0.196364  0.189405  0.437273   0.248309     120        1229   \n",
       "3           1  0.200000  0.212122  0.590435   0.160296     108        1454   \n",
       "4           1  0.226957  0.229270  0.436957   0.186900      82        1518   \n",
       "5           1  0.204348  0.233209  0.518261   0.089565      88        1518   \n",
       "6           2  0.196522  0.208839  0.498696   0.168726     148        1362   \n",
       "7           2  0.165000  0.162254  0.535833   0.266804      68         891   \n",
       "8           1  0.138333  0.116175  0.434167   0.361950      54         768   \n",
       "9           1  0.150833  0.150888  0.482917   0.223267      41        1280   \n",
       "\n",
       "    cnt  \n",
       "0   985  \n",
       "1   801  \n",
       "2  1349  \n",
       "3  1562  \n",
       "4  1600  \n",
       "5  1606  \n",
       "6  1510  \n",
       "7   959  \n",
       "8   822  \n",
       "9  1321  "
      ]
     },
     "execution_count": 3,
     "metadata": {},
     "output_type": "execute_result"
    }
   ],
   "source": [
    "#内容を確認、先頭の10行のみ\n",
    "df.head(10)"
   ]
  },
  {
   "cell_type": "code",
   "execution_count": 4,
   "metadata": {
    "collapsed": true
   },
   "outputs": [],
   "source": [
    "#入力値を定義\n",
    "input_temp = df[['temp']].values\n",
    "input_atemp = df[['atemp']].values\n",
    "input_hum = df[['hum']].values"
   ]
  },
  {
   "cell_type": "code",
   "execution_count": 5,
   "metadata": {
    "collapsed": true
   },
   "outputs": [],
   "source": [
    "#学習後の値を定義\n",
    "y_value = df[['cnt']].values"
   ]
  },
  {
   "cell_type": "code",
   "execution_count": 6,
   "metadata": {
    "collapsed": true
   },
   "outputs": [],
   "source": [
    "#重みを定義\n",
    "\n",
    "#1層目の入力\n",
    "w11 = 0.5\n",
    "w12 = 0.2\n",
    "w13 = 0.3\n",
    "\n",
    "w21 = 0.5\n",
    "w22 = 0.2\n",
    "w23 = 0.3\n",
    "\n",
    "w31 = 0.5\n",
    "w32 = 0.2\n",
    "w33 = 0.3\n",
    "\n",
    "theta11 = -0.3\n",
    "theta12 = 0.5\n",
    "theta13 = 0.4\n",
    "\n",
    "#2層目の入力\n",
    "ww11 = 0.3\n",
    "ww12 = 0.5\n",
    "ww13 = 0.3\n",
    "\n",
    "ww21 = 0.2\n",
    "ww22 = 0.5\n",
    "ww23 = 0.4\n",
    "\n",
    "theta21 = -0.4\n",
    "theta22 = -0.5\n",
    "\n",
    "#3層目の入力\n",
    "\n",
    "www1 = 0.3\n",
    "www2 = 0.4\n",
    "\n",
    "theta3 = -0.5\n"
   ]
  },
  {
   "cell_type": "code",
   "execution_count": 7,
   "metadata": {
    "collapsed": true
   },
   "outputs": [],
   "source": [
    "#inputを計算\n",
    "input_1 = input_temp * w11 + input_atemp * w12 + input_hum + theta11\n",
    "input_2 = input_temp * w21 + input_atemp * w22 + input_hum + theta12\n",
    "input_3 = input_temp * w31 + input_atemp * w32 + input_hum + theta13"
   ]
  },
  {
   "cell_type": "code",
   "execution_count": 8,
   "metadata": {
    "collapsed": true
   },
   "outputs": [],
   "source": [
    "#活性化関数を定義、シグモイド関数\n",
    "def sigmoid(x):\n",
    "    return 1/(1-np.exp(-x))"
   ]
  },
  {
   "cell_type": "code",
   "execution_count": 9,
   "metadata": {
    "collapsed": true
   },
   "outputs": [],
   "source": [
    "#ソフトマックス関数の定義\n",
    "def softmax(x):\n",
    "    exp_x = np.exp(x)\n",
    "    sum_exp_x = np.sum(exp_x)\n",
    "    sm = exp_x/sum_exp_x\n",
    "    \n",
    "    return sm"
   ]
  },
  {
   "cell_type": "code",
   "execution_count": 10,
   "metadata": {
    "collapsed": true
   },
   "outputs": [],
   "source": [
    "#活性化関数にて出力\n",
    "output_11 = sigmoid(input_1)\n",
    "output_12 = sigmoid(input_2)\n",
    "output_13 = sigmoid(input_3)"
   ]
  },
  {
   "cell_type": "code",
   "execution_count": 11,
   "metadata": {
    "collapsed": true
   },
   "outputs": [],
   "source": [
    "#入力を2つに絞る\n",
    "input_21 = output_11 * ww11 + output_12 * ww12 + output_13 * ww13 + theta21\n",
    "input_22 = output_11 * ww21 + output_12 * ww22 + output_13 * ww23 + theta22"
   ]
  },
  {
   "cell_type": "code",
   "execution_count": 12,
   "metadata": {
    "collapsed": true
   },
   "outputs": [],
   "source": [
    "#2層目出力\n",
    "output_21 = sigmoid(input_21)\n",
    "output_22 = sigmoid(input_22)"
   ]
  },
  {
   "cell_type": "code",
   "execution_count": 13,
   "metadata": {
    "collapsed": true
   },
   "outputs": [],
   "source": [
    "#3層目の入力\n",
    "input_31 = output_21 * www1 + output_22 * www2 + theta3"
   ]
  },
  {
   "cell_type": "code",
   "execution_count": 14,
   "metadata": {
    "collapsed": true
   },
   "outputs": [],
   "source": [
    "#3層目の出力\n",
    "output_3 = sigmoid(input_31)"
   ]
  },
  {
   "cell_type": "code",
   "execution_count": 15,
   "metadata": {
    "collapsed": true
   },
   "outputs": [],
   "source": [
    "#3層目の出力にソフトマックス関数をかける\n",
    "final_output = softmax(output_3)"
   ]
  },
  {
   "cell_type": "code",
   "execution_count": 16,
   "metadata": {
    "collapsed": true
   },
   "outputs": [],
   "source": [
    "#ラベルデータにソフトマックス関数をかける\n",
    "label = softmax(y_value/1000)"
   ]
  },
  {
   "cell_type": "code",
   "execution_count": 17,
   "metadata": {
    "collapsed": true
   },
   "outputs": [],
   "source": [
    "#誤差を計算\n",
    "error = final_output - label"
   ]
  },
  {
   "cell_type": "code",
   "execution_count": 18,
   "metadata": {},
   "outputs": [
    {
     "name": "stdout",
     "output_type": "stream",
     "text": [
      "[ 0.02326193]\n"
     ]
    }
   ],
   "source": [
    "#誤差を確認\n",
    "print (sum(error*error))"
   ]
  },
  {
   "cell_type": "code",
   "execution_count": 19,
   "metadata": {
    "collapsed": true
   },
   "outputs": [],
   "source": [
    "#シグモイド関数の微分を定義\n",
    "def sigmoid_der(x):\n",
    "    return (1-sigmoid(x)) * sigmoid(x)"
   ]
  },
  {
   "cell_type": "code",
   "execution_count": 20,
   "metadata": {
    "collapsed": true
   },
   "outputs": [],
   "source": [
    "#学習率を定義\n",
    "Ir = 0.5"
   ]
  },
  {
   "cell_type": "code",
   "execution_count": 21,
   "metadata": {
    "collapsed": true
   },
   "outputs": [],
   "source": [
    "# www1の誤差計算\n",
    "error_term_www1 = Ir * error * sigmoid_der(output_3) * output_21"
   ]
  },
  {
   "cell_type": "code",
   "execution_count": 22,
   "metadata": {
    "collapsed": true
   },
   "outputs": [],
   "source": [
    "# www2の誤差計算\n",
    "error_term_www2 = Ir * error * sigmoid_der(output_3) * output_22"
   ]
  },
  {
   "cell_type": "code",
   "execution_count": 23,
   "metadata": {
    "collapsed": true
   },
   "outputs": [],
   "source": [
    "# theta3の誤差計算\n",
    "error_term_theta3 = Ir * error * sigmoid_der(output_3) * 1"
   ]
  },
  {
   "cell_type": "code",
   "execution_count": 24,
   "metadata": {},
   "outputs": [
    {
     "name": "stdout",
     "output_type": "stream",
     "text": [
      "0.3 0.4 -0.5\n"
     ]
    }
   ],
   "source": [
    "#0行目を使用して重みを更新\n",
    "#重み更新前の値確認\n",
    "print(www1 , www2 , theta3)"
   ]
  },
  {
   "cell_type": "code",
   "execution_count": 25,
   "metadata": {
    "collapsed": true
   },
   "outputs": [],
   "source": [
    "#3層目の重みの更新\n",
    "www1 += error_term_www1[0]\n",
    "www2 += error_term_www2[0]\n",
    "theta3 += error_term_theta3[0] "
   ]
  },
  {
   "cell_type": "code",
   "execution_count": 26,
   "metadata": {},
   "outputs": [
    {
     "name": "stdout",
     "output_type": "stream",
     "text": [
      "[ 0.30273741] [ 0.40295853] [-0.49809145]\n"
     ]
    }
   ],
   "source": [
    "#重み更新後の値を確認\n",
    "print(www1 , www2 , theta3)"
   ]
  },
  {
   "cell_type": "code",
   "execution_count": 27,
   "metadata": {},
   "outputs": [
    {
     "name": "stdout",
     "output_type": "stream",
     "text": [
      "0.3 0.5 0.3 -0.4\n"
     ]
    }
   ],
   "source": [
    "#2層目の重みを更新\n",
    "print (ww11,ww12,ww13,theta21)"
   ]
  },
  {
   "cell_type": "code",
   "execution_count": 28,
   "metadata": {
    "collapsed": true
   },
   "outputs": [],
   "source": [
    "error_term_ww11 = Ir * error * sigmoid_der(output_21) * output_11\n",
    "error_term_ww12 = Ir * error * sigmoid_der(output_21) * output_12\n",
    "error_term_ww13 = Ir * error * sigmoid_der(output_21) * output_13\n",
    "error_term_theta21 = Ir * error * sigmoid_der(output_21) * 1\n",
    "\n",
    "error_term_ww21 = Ir * error * sigmoid_der(output_22) * output_11\n",
    "error_term_ww22 = Ir * error * sigmoid_der(output_22) * output_12\n",
    "error_term_ww23 = Ir * error * sigmoid_der(output_22) * output_13\n",
    "error_term_theta22 = Ir * error * sigmoid_der(output_22) * 1\n",
    "\n",
    "ww11 += error_term_ww11[0]\n",
    "ww12 += error_term_ww12[0]\n",
    "ww13 += error_term_ww13[0]\n",
    "theta21 += error_term_theta21[0]\n",
    "\n",
    "ww21 += error_term_ww21[0]\n",
    "ww22 += error_term_ww22[0]\n",
    "ww23 += error_term_ww23[0]\n",
    "theta21 += error_term_theta22[0]"
   ]
  },
  {
   "cell_type": "code",
   "execution_count": 29,
   "metadata": {},
   "outputs": [
    {
     "name": "stdout",
     "output_type": "stream",
     "text": [
      "[ 0.31293683] [ 0.50866852] [ 0.3089211] [-0.38748343]\n"
     ]
    }
   ],
   "source": [
    "print (ww11,ww12,ww13,theta21)"
   ]
  },
  {
   "cell_type": "code",
   "execution_count": 30,
   "metadata": {},
   "outputs": [
    {
     "name": "stdout",
     "output_type": "stream",
     "text": [
      "0.5 0.2 0.3 -0.3\n"
     ]
    }
   ],
   "source": [
    "#1行目の重みを更新\n",
    "print (w11 , w12 , w13 , theta11)"
   ]
  },
  {
   "cell_type": "code",
   "execution_count": 31,
   "metadata": {
    "collapsed": true
   },
   "outputs": [],
   "source": [
    "error_term_w11 = Ir * error * sigmoid_der(output_11) * input_temp\n",
    "error_term_w12 = Ir * error * sigmoid_der(output_11) * input_atemp\n",
    "error_term_w13 = Ir * error * sigmoid_der(output_11) * input_hum\n",
    "error_term_theta11 = Ir * error * sigmoid_der(output_11) * 1\n",
    "\n",
    "error_term_w21 = Ir * error * sigmoid_der(output_12) * input_temp\n",
    "error_term_w22 = Ir * error * sigmoid_der(output_12) * input_atemp\n",
    "error_term_w23 = Ir * error * sigmoid_der(output_12) * input_hum\n",
    "error_term_theta12 = Ir * error * sigmoid_der(output_13) * 1\n",
    "\n",
    "error_term_w31 = Ir * error * sigmoid_der(output_13) * input_temp\n",
    "error_term_w32 = Ir * error * sigmoid_der(output_13) * input_atemp\n",
    "error_term_w33 = Ir * error * sigmoid_der(output_13) * input_hum\n",
    "error_term_theta13 = Ir * error * sigmoid_der(output_13) * 1\n",
    "\n",
    "w11 += error_term_w11[0]\n",
    "w12 += error_term_w12[0]\n",
    "w13 += error_term_w13[0]\n",
    "theta11 += error_term_theta11[0]\n",
    "\n",
    "w21 += error_term_w21[0]\n",
    "w22 += error_term_w22[0]\n",
    "w23 += error_term_w23[0]\n",
    "theta12 += error_term_theta12[0]\n",
    "\n",
    "w31 += error_term_w31[0]\n",
    "w32 += error_term_w32[0]\n",
    "w33 += error_term_w33[0]\n",
    "theta13 += error_term_theta13[0]"
   ]
  },
  {
   "cell_type": "code",
   "execution_count": 32,
   "metadata": {},
   "outputs": [
    {
     "name": "stdout",
     "output_type": "stream",
     "text": [
      "[ 0.50119304] [ 0.20126049] [ 0.30279339] [-0.29653354]\n"
     ]
    }
   ],
   "source": [
    "print (w11 , w12 , w13 , theta11)"
   ]
  },
  {
   "cell_type": "code",
   "execution_count": 42,
   "metadata": {
    "collapsed": true
   },
   "outputs": [],
   "source": [
    "#再計算\n",
    "\n",
    "input_1 = input_temp * w11 + input_atemp * w12 + input_hum + theta11\n",
    "input_2 = input_temp * w21 + input_atemp * w22 + input_hum + theta12\n",
    "input_3 = input_temp * w31 + input_atemp * w32 + input_hum + theta13\n",
    "\n",
    "output_11 = sigmoid(input_1)\n",
    "output_12 = sigmoid(input_2)\n",
    "output_13 = sigmoid(input_3)\n",
    "\n",
    "input_21 = output_11 * ww11 + output_12 * ww12 + output_13 * ww13 + theta21\n",
    "input_22 = output_11 * ww21 + output_12 * ww22 + output_13 * ww23 + theta22\n",
    "\n",
    "output_21 = sigmoid(input_21)\n",
    "output_22 = sigmoid(input_22)\n",
    "\n",
    "input_31 = output_21 * www1 + output_22 * www2 + theta3\n",
    "\n",
    "output_3 = sigmoid(input_31)\n",
    "\n",
    "final_output = softmax(output_3)\n",
    "\n",
    "error = final_output - label"
   ]
  },
  {
   "cell_type": "code",
   "execution_count": 43,
   "metadata": {},
   "outputs": [
    {
     "name": "stdout",
     "output_type": "stream",
     "text": [
      "[ 0.0218565]\n"
     ]
    }
   ],
   "source": [
    "#値の確認\n",
    "print (sum(error*error))"
   ]
  },
  {
   "cell_type": "code",
   "execution_count": 44,
   "metadata": {
    "collapsed": true
   },
   "outputs": [],
   "source": [
    "#少し学習できている！"
   ]
  },
  {
   "cell_type": "code",
   "execution_count": 45,
   "metadata": {
    "collapsed": true
   },
   "outputs": [],
   "source": [
    "#一度無視して値を予測\n",
    "\n",
    "input_temp_T1 = 0.3\n",
    "input_atemp_T1 = 0.35\n",
    "input_hum_T1 = 0.5"
   ]
  },
  {
   "cell_type": "code",
   "execution_count": 46,
   "metadata": {
    "collapsed": true
   },
   "outputs": [],
   "source": [
    "input_1_T1 = input_temp_T1 * w11 + input_atemp_T1 * w12 + input_hum_T1 + theta11\n",
    "input_2_T1 = input_temp_T1 * w21 + input_atemp_T1 * w22 + input_hum_T1 + theta12\n",
    "input_3_T1 = input_temp_T1 * w31 + input_atemp_T1 * w32 + input_hum_T1 + theta13\n",
    "\n",
    "output_11_T1 = sigmoid(input_1_T1)\n",
    "output_12_T1 = sigmoid(input_2_T1)\n",
    "output_13_T1 = sigmoid(input_3_T1)\n",
    "\n",
    "input_21_T1 = output_11_T1 * ww11 + output_12_T1 * ww12 + output_13_T1 * ww13 + theta21\n",
    "input_22_T1 = output_11_T1 * ww21 + output_12_T1 * ww22 + output_13_T1 * ww23 + theta22\n",
    "\n",
    "output_21_T1 = sigmoid(input_21_T1)\n",
    "output_22_T1 = sigmoid(input_22_T1)\n",
    "\n",
    "input_31_T1 = output_21_T1 * www1 + output_22_T1 * www2 + theta3\n",
    "\n",
    "output_3_T1 = sigmoid(input_31_T1)"
   ]
  },
  {
   "cell_type": "code",
   "execution_count": 47,
   "metadata": {},
   "outputs": [
    {
     "data": {
      "text/plain": [
       "array([ 3.01473374])"
      ]
     },
     "execution_count": 47,
     "metadata": {},
     "output_type": "execute_result"
    }
   ],
   "source": [
    "output_3_T1"
   ]
  },
  {
   "cell_type": "code",
   "execution_count": 48,
   "metadata": {},
   "outputs": [
    {
     "data": {
      "text/plain": [
       "array([ 1178.12283809])"
      ]
     },
     "execution_count": 48,
     "metadata": {},
     "output_type": "execute_result"
    }
   ],
   "source": [
    "#値をcntに変換\n",
    "output_3_T1 / np.sum(output_3) * np.sum(y_value)"
   ]
  },
  {
   "cell_type": "code",
   "execution_count": 49,
   "metadata": {
    "collapsed": true
   },
   "outputs": [],
   "source": [
    "#一応それらしい値がでてきた！！！"
   ]
  }
 ],
 "metadata": {
  "kernelspec": {
   "display_name": "Python 3",
   "language": "python",
   "name": "python3"
  },
  "language_info": {
   "codemirror_mode": {
    "name": "ipython",
    "version": 3
   },
   "file_extension": ".py",
   "mimetype": "text/x-python",
   "name": "python",
   "nbconvert_exporter": "python",
   "pygments_lexer": "ipython3",
   "version": "3.5.4"
  }
 },
 "nbformat": 4,
 "nbformat_minor": 2
}
