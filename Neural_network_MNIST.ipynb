{
 "cells": [
  {
   "cell_type": "code",
   "execution_count": 125,
   "metadata": {
    "collapsed": true
   },
   "outputs": [],
   "source": [
    "import numpy as np\n",
    "import matplotlib.pyplot as plt\n",
    "import scipy.special\n",
    "%matplotlib inline"
   ]
  },
  {
   "cell_type": "code",
   "execution_count": 375,
   "metadata": {},
   "outputs": [],
   "source": [
    "#ニュートラルネットワーククラスを定義\n",
    "class neuralnetwork:\n",
    "    \n",
    "    #ニューラルネットワークの初期化\n",
    "    def __init__(self , inputnodes , hiddennodes , outputnodes , learningrate):\n",
    "    #入力層、隠れ層、出力層のノード数を定義\n",
    "        self.inodes = inputnodes\n",
    "        self.hnodes = hiddennodes\n",
    "        self.onodes = outputnodes\n",
    "        \n",
    "    #重みを定義\n",
    "        self.wih = np.random.normal(0.0 , pow(self.hnodes , -0.5) , (self.hnodes , self.inodes))\n",
    "        self.who = np.random.normal(0.0 , pow(self.onodes , -0.5) , (self.onodes , self.hnodes))\n",
    "        \n",
    "    #学習率の設定\n",
    "        self.Ir = learningrate\n",
    "        \n",
    "    #シグモイド関数を定義\n",
    "        self.activation_function = lambda x : scipy.special.expit(x)\n",
    "        \n",
    "        pass\n",
    "    \n",
    "    #ニュートラルネットワークの学習\n",
    "    def train(self , inputs_list , targets_list):\n",
    "        inputs = np.array(inputs_list , ndmin=2).T\n",
    "        targets = np.array(targets_list , ndmin=2).T\n",
    "    \n",
    "        hidden_inputs=np.dot(self.wih , inputs)\n",
    "        hidden_outputs = self.activation_function(hidden_inputs)\n",
    "    \n",
    "        final_inputs = np.dot(self.who , hidden_outputs)\n",
    "        final_outputs = self.activation_function(final_inputs)\n",
    "    \n",
    "        output_errors = targets - final_outputs\n",
    "    \n",
    "        hidden_errors = np.dot (self.who.T , output_errors)\n",
    "    \n",
    "        #transpose →　軸を入れ替える\n",
    "        self.who += self.Ir*np.dot((output_errors * final_outputs * (1.0 - final_outputs)), np.transpose(hidden_outputs))\n",
    "        self.wih += self.Ir*np.dot((hidden_errors * hidden_outputs * (1.0 - hidden_outputs)), np.transpose(inputs))\n",
    "    \n",
    "        pass\n",
    "    \n",
    "    #ニュートラルネットワークへの照会\n",
    "    def query(self , input_lists):\n",
    "    \n",
    "        #入力リストを行列に変換\n",
    "        inputs = np.array(input_lists , ndmin=2).T\n",
    "    \n",
    "        hidden_inputs = np.dot(self.wih , inputs)\n",
    "    \n",
    "        hidden_outputs = self.activation_function(hidden_inputs)\n",
    "    \n",
    "        final_inputs = np.dot(self.who , hidden_outputs)\n",
    "    \n",
    "        final_outputs = self.activation_function(final_inputs)\n",
    "    \n",
    "        return final_outputs"
   ]
  },
  {
   "cell_type": "code",
   "execution_count": 410,
   "metadata": {},
   "outputs": [
    {
     "data": {
      "text/plain": [
       "<function TextIOWrapper.close>"
      ]
     },
     "execution_count": 410,
     "metadata": {},
     "output_type": "execute_result"
    }
   ],
   "source": [
    "input_nodes = 784\n",
    "hidden_nodes = 300\n",
    "output_nodes = 10\n",
    "\n",
    "learning_rate = 0.3\n",
    "\n",
    "n = neuralnetwork(input_nodes , hidden_nodes , output_nodes , learning_rate)\n",
    "\n",
    "training_data_file = open(\"mnist_train.csv\" , \"r\")\n",
    "training_data_list = training_data_file.readlines()\n",
    "training_data_file.close"
   ]
  },
  {
   "cell_type": "code",
   "execution_count": 411,
   "metadata": {},
   "outputs": [],
   "source": [
    "epochs = 3\n",
    "\n",
    "for e in range(epochs):\n",
    "    for record in training_data_list:\n",
    "        all_values = record.split(',')\n",
    "        inputs = (np.asfarray(all_values[1:])/255.0*0.99)+0.01\n",
    "        targets = np.zeros(output_nodes) + 0.01\n",
    "        targets[int(all_values[0])] = 0.99\n",
    "        n.train(inputs , targets)\n",
    "    \n",
    "    pass\n",
    "pass"
   ]
  },
  {
   "cell_type": "code",
   "execution_count": 412,
   "metadata": {},
   "outputs": [
    {
     "data": {
      "text/plain": [
       "<function TextIOWrapper.close>"
      ]
     },
     "execution_count": 412,
     "metadata": {},
     "output_type": "execute_result"
    }
   ],
   "source": [
    "test_data_file = open(\"mnist_test.csv\" , \"r\")\n",
    "test_data_list = test_data_file.readlines()\n",
    "test_data_file.close"
   ]
  },
  {
   "cell_type": "code",
   "execution_count": 413,
   "metadata": {},
   "outputs": [],
   "source": [
    "scorecard = []\n",
    "\n",
    "for record in test_data_list:\n",
    "    all_values = record.split(',')\n",
    "    correct_label = int(all_values[0])\n",
    "    inputs = (np.asfarray(all_values[1:]) / 255.0 * 0.99) + 0.01\n",
    "    outputs = n.query(inputs)\n",
    "    label = np.argmax(outputs)    \n",
    "    if(label == correct_label):\n",
    "        scorecard.append(1)\n",
    "    else:\n",
    "        scorecard.append(0)\n",
    "        pass\n",
    "    \n",
    "    pass"
   ]
  },
  {
   "cell_type": "code",
   "execution_count": 414,
   "metadata": {},
   "outputs": [
    {
     "name": "stdout",
     "output_type": "stream",
     "text": [
      "performance = 0.9641\n"
     ]
    }
   ],
   "source": [
    "scorecard_array = np.asarray(scorecard)\n",
    "print(\"performance =\" , scorecard_array.sum()/scorecard_array.size)"
   ]
  },
  {
   "cell_type": "code",
   "execution_count": null,
   "metadata": {
    "collapsed": true
   },
   "outputs": [],
   "source": []
  }
 ],
 "metadata": {
  "kernelspec": {
   "display_name": "Python 3",
   "language": "python",
   "name": "python3"
  },
  "language_info": {
   "codemirror_mode": {
    "name": "ipython",
    "version": 3
   },
   "file_extension": ".py",
   "mimetype": "text/x-python",
   "name": "python",
   "nbconvert_exporter": "python",
   "pygments_lexer": "ipython3",
   "version": "3.5.4"
  }
 },
 "nbformat": 4,
 "nbformat_minor": 2
}
